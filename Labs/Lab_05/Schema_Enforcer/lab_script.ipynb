{
 "cells": [
  {
   "cell_type": "markdown",
   "id": "9bbecd1b",
   "metadata": {},
   "source": [
    "# Part 1: Acquisition and Flexible Formatting"
   ]
  },
  {
   "cell_type": "code",
   "execution_count": 56,
   "id": "5b8dc93e",
   "metadata": {},
   "outputs": [],
   "source": [
    "import csv\n",
    "import json"
   ]
  },
  {
   "cell_type": "markdown",
   "id": "64636204",
   "metadata": {},
   "source": [
    "## Task 1: Create the Tabular CSV Data (Requires Cleaning)"
   ]
  },
  {
   "cell_type": "code",
   "execution_count": 57,
   "id": "aac1372f",
   "metadata": {},
   "outputs": [],
   "source": [
    "#create a CSV file\n",
    "data = [\n",
    "    {\"student_id\": 12379, \"major\": \"CS\", \"GPA\": 3.2, \"is_cs_major\": True, \"credits_taken\": 16.0},\n",
    "    {\"student_id\": 12380, \"major\": \"Math\", \"GPA\": 3, \"is_cs_major\": False, \"credits_taken\": 13.0},\n",
    "    {\"student_id\": 12381, \"major\": \"CS\", \"GPA\": 2.1, \"is_cs_major\": 'Yes', \"credits_taken\": '15.0'},\n",
    "    {\"student_id\": 12382, \"major\": \"History\", \"GPA\": 1, \"is_cs_major\": 'No', \"credits_taken\": '9.0'},\n",
    "    {\"student_id\": 12383, \"major\": \"Statistics\", \"GPA\": 4.0, \"is_cs_major\": False, \"credits_taken\": 18.0},\n",
    "]\n",
    "\n",
    "with open('raw_survey_data.csv', 'w', newline='') as csvfile: \n",
    "    fieldnames = ['student_id','major','GPA','is_cs_major','credits_taken']\n",
    "    writer = csv.DictWriter(csvfile,fieldnames=fieldnames) #this is a object\n",
    "    writer.writeheader()\n",
    "    writer.writerows(data)\n"
   ]
  },
  {
   "cell_type": "markdown",
   "id": "614b8047",
   "metadata": {},
   "source": [
    "## Task 2: Create the Hierarchical JSON Data (Requires Normalization)"
   ]
  },
  {
   "cell_type": "code",
   "execution_count": 66,
   "id": "c64f28b2",
   "metadata": {},
   "outputs": [],
   "source": [
    "#create the JSON file\n",
    "courses = [\n",
    "  {\n",
    "    \"course_id\": \"DS2002\",\n",
    "    \"section\": \"001\",\n",
    "    \"title\": \"Data Science Systems\",\n",
    "    \"level\": 200,\n",
    "    \"instructors\": [\n",
    "      {\"name\": \"Austin Rivera\", \"role\": \"Primary\"}, \n",
    "      {\"name\": \"Heywood Williams-Tracy\", \"role\": \"TA\"} \n",
    "    ]\n",
    "  },\n",
    "  {\n",
    "    \"course_id\": \"STAT4630\",\n",
    "    \"section\": \"001\",\n",
    "    \"title\": \"Statistical Machine Learning\",\n",
    "    \"level\": 400,\n",
    "    \"instructors\": [\n",
    "      {\"name\": \"Shan Yu\", \"role\": \"Primary\"}\n",
    "    ]\n",
    "  },\n",
    "  {\n",
    "    \"course_id\": \"STAT4170\",\n",
    "    \"section\": \"001\",\n",
    "    \"title\": \"Financial Time Series\",\n",
    "    \"level\": 400,\n",
    "    \"instructors\": [\n",
    "      {\"name\": \"Jeffrey Woo\", \"role\": \"Primary\"}\n",
    "    ]\n",
    "  },\n",
    "  {\n",
    "   \"course_id\": \"STAT3130\",\n",
    "    \"section\": \"001\",\n",
    "    \"title\": \"Design and Analysis of Sample Surveys\",\n",
    "    \"level\": 300,\n",
    "    \"instructors\": [\n",
    "      {\"name\": \"Justin Weinstock\", \"role\": \"Primary\"}\n",
    "    ]   \n",
    "  }\n",
    "]\n",
    "\n",
    "json_string = json.dumps(courses, indent = 4)\n",
    "with open(\"raw_course_catalog.json\",\"w\") as file:\n",
    "    file.write(json_string)"
   ]
  },
  {
   "cell_type": "markdown",
   "id": "18df1901",
   "metadata": {},
   "source": [
    "# Part 2: Data Validation and Type Casting"
   ]
  },
  {
   "cell_type": "markdown",
   "id": "41126487",
   "metadata": {},
   "source": [
    "## Task 3: Clean and Validate the CSV Data"
   ]
  },
  {
   "cell_type": "code",
   "execution_count": 59,
   "id": "4684904e",
   "metadata": {},
   "outputs": [],
   "source": [
    "#load the necessary libraries\n",
    "import pandas as pd"
   ]
  },
  {
   "cell_type": "code",
   "execution_count": 60,
   "id": "6a92ed02",
   "metadata": {},
   "outputs": [
    {
     "data": {
      "text/html": [
       "<div>\n",
       "<style scoped>\n",
       "    .dataframe tbody tr th:only-of-type {\n",
       "        vertical-align: middle;\n",
       "    }\n",
       "\n",
       "    .dataframe tbody tr th {\n",
       "        vertical-align: top;\n",
       "    }\n",
       "\n",
       "    .dataframe thead th {\n",
       "        text-align: right;\n",
       "    }\n",
       "</style>\n",
       "<table border=\"1\" class=\"dataframe\">\n",
       "  <thead>\n",
       "    <tr style=\"text-align: right;\">\n",
       "      <th></th>\n",
       "      <th>student_id</th>\n",
       "      <th>major</th>\n",
       "      <th>GPA</th>\n",
       "      <th>is_cs_major</th>\n",
       "      <th>credits_taken</th>\n",
       "    </tr>\n",
       "  </thead>\n",
       "  <tbody>\n",
       "    <tr>\n",
       "      <th>0</th>\n",
       "      <td>12379</td>\n",
       "      <td>CS</td>\n",
       "      <td>3.2</td>\n",
       "      <td>True</td>\n",
       "      <td>16.0</td>\n",
       "    </tr>\n",
       "    <tr>\n",
       "      <th>1</th>\n",
       "      <td>12380</td>\n",
       "      <td>Math</td>\n",
       "      <td>3.0</td>\n",
       "      <td>False</td>\n",
       "      <td>13.0</td>\n",
       "    </tr>\n",
       "    <tr>\n",
       "      <th>2</th>\n",
       "      <td>12381</td>\n",
       "      <td>CS</td>\n",
       "      <td>2.1</td>\n",
       "      <td>Yes</td>\n",
       "      <td>15.0</td>\n",
       "    </tr>\n",
       "    <tr>\n",
       "      <th>3</th>\n",
       "      <td>12382</td>\n",
       "      <td>History</td>\n",
       "      <td>1.0</td>\n",
       "      <td>No</td>\n",
       "      <td>9.0</td>\n",
       "    </tr>\n",
       "    <tr>\n",
       "      <th>4</th>\n",
       "      <td>12383</td>\n",
       "      <td>Statistics</td>\n",
       "      <td>4.0</td>\n",
       "      <td>False</td>\n",
       "      <td>18.0</td>\n",
       "    </tr>\n",
       "  </tbody>\n",
       "</table>\n",
       "</div>"
      ],
      "text/plain": [
       "   student_id       major  GPA is_cs_major  credits_taken\n",
       "0       12379          CS  3.2        True           16.0\n",
       "1       12380        Math  3.0       False           13.0\n",
       "2       12381          CS  2.1         Yes           15.0\n",
       "3       12382     History  1.0          No            9.0\n",
       "4       12383  Statistics  4.0       False           18.0"
      ]
     },
     "execution_count": 60,
     "metadata": {},
     "output_type": "execute_result"
    }
   ],
   "source": [
    "#load raw_survey_data.csv\n",
    "survey_df = pd.read_csv(\"raw_survey_data.csv\")\n",
    "survey_df.head()"
   ]
  },
  {
   "cell_type": "code",
   "execution_count": 61,
   "id": "3473db77",
   "metadata": {},
   "outputs": [],
   "source": [
    "#change the values is_cs_major\n",
    "survey_df[\"is_cs_major\"] = survey_df[\"is_cs_major\"].replace({\"Yes\": True, \"No\": False})"
   ]
  },
  {
   "cell_type": "code",
   "execution_count": 62,
   "id": "907fd7c7",
   "metadata": {},
   "outputs": [
    {
     "data": {
      "text/html": [
       "<div>\n",
       "<style scoped>\n",
       "    .dataframe tbody tr th:only-of-type {\n",
       "        vertical-align: middle;\n",
       "    }\n",
       "\n",
       "    .dataframe tbody tr th {\n",
       "        vertical-align: top;\n",
       "    }\n",
       "\n",
       "    .dataframe thead th {\n",
       "        text-align: right;\n",
       "    }\n",
       "</style>\n",
       "<table border=\"1\" class=\"dataframe\">\n",
       "  <thead>\n",
       "    <tr style=\"text-align: right;\">\n",
       "      <th></th>\n",
       "      <th>student_id</th>\n",
       "      <th>major</th>\n",
       "      <th>GPA</th>\n",
       "      <th>is_cs_major</th>\n",
       "      <th>credits_taken</th>\n",
       "    </tr>\n",
       "  </thead>\n",
       "  <tbody>\n",
       "    <tr>\n",
       "      <th>0</th>\n",
       "      <td>12379</td>\n",
       "      <td>CS</td>\n",
       "      <td>3.2</td>\n",
       "      <td>True</td>\n",
       "      <td>16.0</td>\n",
       "    </tr>\n",
       "    <tr>\n",
       "      <th>1</th>\n",
       "      <td>12380</td>\n",
       "      <td>Math</td>\n",
       "      <td>3.0</td>\n",
       "      <td>False</td>\n",
       "      <td>13.0</td>\n",
       "    </tr>\n",
       "    <tr>\n",
       "      <th>2</th>\n",
       "      <td>12381</td>\n",
       "      <td>CS</td>\n",
       "      <td>2.1</td>\n",
       "      <td>True</td>\n",
       "      <td>15.0</td>\n",
       "    </tr>\n",
       "    <tr>\n",
       "      <th>3</th>\n",
       "      <td>12382</td>\n",
       "      <td>History</td>\n",
       "      <td>1.0</td>\n",
       "      <td>False</td>\n",
       "      <td>9.0</td>\n",
       "    </tr>\n",
       "    <tr>\n",
       "      <th>4</th>\n",
       "      <td>12383</td>\n",
       "      <td>Statistics</td>\n",
       "      <td>4.0</td>\n",
       "      <td>False</td>\n",
       "      <td>18.0</td>\n",
       "    </tr>\n",
       "  </tbody>\n",
       "</table>\n",
       "</div>"
      ],
      "text/plain": [
       "   student_id       major  GPA is_cs_major  credits_taken\n",
       "0       12379          CS  3.2        True           16.0\n",
       "1       12380        Math  3.0       False           13.0\n",
       "2       12381          CS  2.1        True           15.0\n",
       "3       12382     History  1.0       False            9.0\n",
       "4       12383  Statistics  4.0       False           18.0"
      ]
     },
     "execution_count": 62,
     "metadata": {},
     "output_type": "execute_result"
    }
   ],
   "source": [
    "#enforce the numeric types\n",
    "survey_df = survey_df.astype({'credits_taken':'float64','GPA':'float64'})\n",
    "survey_df"
   ]
  },
  {
   "cell_type": "code",
   "execution_count": 63,
   "id": "0d342c51",
   "metadata": {},
   "outputs": [],
   "source": [
    "#create a new csv\n",
    "survey_df.to_csv(\"clean_survey_data.csv\", header=True, index =False)"
   ]
  },
  {
   "cell_type": "markdown",
   "id": "41ead597",
   "metadata": {},
   "source": [
    "## Task 4: Normalize the JSON Data"
   ]
  },
  {
   "cell_type": "code",
   "execution_count": 67,
   "id": "3e24dd75",
   "metadata": {},
   "outputs": [
    {
     "name": "stdout",
     "output_type": "stream",
     "text": [
      "[{'course_id': 'DS2002', 'section': '001', 'title': 'Data Science Systems', 'level': 200, 'instructors': [{'name': 'Austin Rivera', 'role': 'Primary'}, {'name': 'Heywood Williams-Tracy', 'role': 'TA'}]}, {'course_id': 'STAT4630', 'section': '001', 'title': 'Statistical Machine Learning', 'level': 400, 'instructors': [{'name': 'Shan Yu', 'role': 'Primary'}]}, {'course_id': 'STAT4170', 'section': '001', 'title': 'Financial Time Series', 'level': 400, 'instructors': [{'name': 'Jeffrey Woo', 'role': 'Primary'}]}, {'course_id': 'STAT3130', 'section': '001', 'title': 'Design and Analysis of Sample Surveys', 'level': 300, 'instructors': [{'name': 'Justin Weinstock', 'role': 'Primary'}]}]\n"
     ]
    }
   ],
   "source": [
    "#load the file\n",
    "with open(\"raw_course_catalog.json\", \"r\") as jsonfile:\n",
    "    catalog_data = json.load(jsonfile) #makes a list of five elements\n",
    "print(catalog_data)\n"
   ]
  },
  {
   "cell_type": "code",
   "execution_count": 69,
   "id": "92533edb",
   "metadata": {},
   "outputs": [],
   "source": [
    "#normalize json files\n",
    "catalog_df = pd.json_normalize(catalog_data, record_path=['instructors'], meta=['course_id', 'title', 'level'])"
   ]
  },
  {
   "cell_type": "code",
   "execution_count": 70,
   "id": "bf782f30",
   "metadata": {},
   "outputs": [],
   "source": [
    "#convert the dataframe to csv\n",
    "catalog_df.to_csv(\"clean_course_catalog.csv\", header=True, index =False)\n"
   ]
  },
  {
   "cell_type": "markdown",
   "id": "42e05c1d",
   "metadata": {},
   "source": [
    "# Part 3: The Schema Contract"
   ]
  },
  {
   "cell_type": "code",
   "execution_count": 74,
   "id": "1e9d05dc",
   "metadata": {},
   "outputs": [
    {
     "data": {
      "text/html": [
       "<div>\n",
       "<style scoped>\n",
       "    .dataframe tbody tr th:only-of-type {\n",
       "        vertical-align: middle;\n",
       "    }\n",
       "\n",
       "    .dataframe tbody tr th {\n",
       "        vertical-align: top;\n",
       "    }\n",
       "\n",
       "    .dataframe thead th {\n",
       "        text-align: right;\n",
       "    }\n",
       "</style>\n",
       "<table border=\"1\" class=\"dataframe\">\n",
       "  <thead>\n",
       "    <tr style=\"text-align: right;\">\n",
       "      <th></th>\n",
       "      <th>student_id</th>\n",
       "      <th>major</th>\n",
       "      <th>GPA</th>\n",
       "      <th>is_cs_major</th>\n",
       "      <th>credits_taken</th>\n",
       "    </tr>\n",
       "  </thead>\n",
       "  <tbody>\n",
       "    <tr>\n",
       "      <th>0</th>\n",
       "      <td>12379</td>\n",
       "      <td>CS</td>\n",
       "      <td>3.2</td>\n",
       "      <td>True</td>\n",
       "      <td>16.0</td>\n",
       "    </tr>\n",
       "    <tr>\n",
       "      <th>1</th>\n",
       "      <td>12380</td>\n",
       "      <td>Math</td>\n",
       "      <td>3.0</td>\n",
       "      <td>False</td>\n",
       "      <td>13.0</td>\n",
       "    </tr>\n",
       "    <tr>\n",
       "      <th>2</th>\n",
       "      <td>12381</td>\n",
       "      <td>CS</td>\n",
       "      <td>2.1</td>\n",
       "      <td>True</td>\n",
       "      <td>15.0</td>\n",
       "    </tr>\n",
       "    <tr>\n",
       "      <th>3</th>\n",
       "      <td>12382</td>\n",
       "      <td>History</td>\n",
       "      <td>1.0</td>\n",
       "      <td>False</td>\n",
       "      <td>9.0</td>\n",
       "    </tr>\n",
       "    <tr>\n",
       "      <th>4</th>\n",
       "      <td>12383</td>\n",
       "      <td>Statistics</td>\n",
       "      <td>4.0</td>\n",
       "      <td>False</td>\n",
       "      <td>18.0</td>\n",
       "    </tr>\n",
       "  </tbody>\n",
       "</table>\n",
       "</div>"
      ],
      "text/plain": [
       "   student_id       major  GPA  is_cs_major  credits_taken\n",
       "0       12379          CS  3.2         True           16.0\n",
       "1       12380        Math  3.0        False           13.0\n",
       "2       12381          CS  2.1         True           15.0\n",
       "3       12382     History  1.0        False            9.0\n",
       "4       12383  Statistics  4.0        False           18.0"
      ]
     },
     "execution_count": 74,
     "metadata": {},
     "output_type": "execute_result"
    }
   ],
   "source": [
    "#examine the data\n",
    "clean_survey = pd.read_csv(\"clean_survey_data.csv\")\n",
    "clean_survey"
   ]
  },
  {
   "cell_type": "code",
   "execution_count": 76,
   "id": "3548fcba",
   "metadata": {},
   "outputs": [
    {
     "data": {
      "text/html": [
       "<div>\n",
       "<style scoped>\n",
       "    .dataframe tbody tr th:only-of-type {\n",
       "        vertical-align: middle;\n",
       "    }\n",
       "\n",
       "    .dataframe tbody tr th {\n",
       "        vertical-align: top;\n",
       "    }\n",
       "\n",
       "    .dataframe thead th {\n",
       "        text-align: right;\n",
       "    }\n",
       "</style>\n",
       "<table border=\"1\" class=\"dataframe\">\n",
       "  <thead>\n",
       "    <tr style=\"text-align: right;\">\n",
       "      <th></th>\n",
       "      <th>name</th>\n",
       "      <th>role</th>\n",
       "      <th>course_id</th>\n",
       "      <th>title</th>\n",
       "      <th>level</th>\n",
       "    </tr>\n",
       "  </thead>\n",
       "  <tbody>\n",
       "    <tr>\n",
       "      <th>0</th>\n",
       "      <td>Austin Rivera</td>\n",
       "      <td>Primary</td>\n",
       "      <td>DS2002</td>\n",
       "      <td>Data Science Systems</td>\n",
       "      <td>200</td>\n",
       "    </tr>\n",
       "    <tr>\n",
       "      <th>1</th>\n",
       "      <td>Heywood Williams-Tracy</td>\n",
       "      <td>TA</td>\n",
       "      <td>DS2002</td>\n",
       "      <td>Data Science Systems</td>\n",
       "      <td>200</td>\n",
       "    </tr>\n",
       "    <tr>\n",
       "      <th>2</th>\n",
       "      <td>Shan Yu</td>\n",
       "      <td>Primary</td>\n",
       "      <td>STAT4630</td>\n",
       "      <td>Statistical Machine Learning</td>\n",
       "      <td>400</td>\n",
       "    </tr>\n",
       "    <tr>\n",
       "      <th>3</th>\n",
       "      <td>Jeffrey Woo</td>\n",
       "      <td>Primary</td>\n",
       "      <td>STAT4170</td>\n",
       "      <td>Financial Time Series</td>\n",
       "      <td>400</td>\n",
       "    </tr>\n",
       "    <tr>\n",
       "      <th>4</th>\n",
       "      <td>Justin Weinstock</td>\n",
       "      <td>Primary</td>\n",
       "      <td>STAT3130</td>\n",
       "      <td>Design and Analysis of Sample Surveys</td>\n",
       "      <td>300</td>\n",
       "    </tr>\n",
       "  </tbody>\n",
       "</table>\n",
       "</div>"
      ],
      "text/plain": [
       "                     name     role course_id  \\\n",
       "0           Austin Rivera  Primary    DS2002   \n",
       "1  Heywood Williams-Tracy       TA    DS2002   \n",
       "2                 Shan Yu  Primary  STAT4630   \n",
       "3             Jeffrey Woo  Primary  STAT4170   \n",
       "4        Justin Weinstock  Primary  STAT3130   \n",
       "\n",
       "                                   title  level  \n",
       "0                   Data Science Systems    200  \n",
       "1                   Data Science Systems    200  \n",
       "2           Statistical Machine Learning    400  \n",
       "3                  Financial Time Series    400  \n",
       "4  Design and Analysis of Sample Surveys    300  "
      ]
     },
     "execution_count": 76,
     "metadata": {},
     "output_type": "execute_result"
    }
   ],
   "source": [
    "#examine the data\n",
    "clean_catalog = pd.read_csv(\"clean_course_catalog.csv\")\n",
    "clean_catalog"
   ]
  }
 ],
 "metadata": {
  "kernelspec": {
   "display_name": "Python 3",
   "language": "python",
   "name": "python3"
  },
  "language_info": {
   "codemirror_mode": {
    "name": "ipython",
    "version": 3
   },
   "file_extension": ".py",
   "mimetype": "text/x-python",
   "name": "python",
   "nbconvert_exporter": "python",
   "pygments_lexer": "ipython3",
   "version": "3.12.1"
  }
 },
 "nbformat": 4,
 "nbformat_minor": 5
}
